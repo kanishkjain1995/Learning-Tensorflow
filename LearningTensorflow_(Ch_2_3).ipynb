{
  "nbformat": 4,
  "nbformat_minor": 0,
  "metadata": {
    "colab": {
      "name": "LearningTensorflow (Ch: 2-3).ipynb",
      "version": "0.3.2",
      "provenance": [],
      "include_colab_link": true
    },
    "kernelspec": {
      "name": "python3",
      "display_name": "Python 3"
    },
    "accelerator": "GPU"
  },
  "cells": [
    {
      "cell_type": "markdown",
      "metadata": {
        "id": "view-in-github",
        "colab_type": "text"
      },
      "source": [
        "<a href=\"https://colab.research.google.com/github/kanishkjain1995/Learning-Tensorflow/blob/master/LearningTensorflow_(Ch_2_3).ipynb\" target=\"_parent\"><img src=\"https://colab.research.google.com/assets/colab-badge.svg\" alt=\"Open In Colab\"/></a>"
      ]
    },
    {
      "cell_type": "code",
      "metadata": {
        "id": "ViekmK9GsxV4",
        "colab_type": "code",
        "colab": {}
      },
      "source": [
        "import tensorflow as tf\n",
        "import numpy as np"
      ],
      "execution_count": 0,
      "outputs": []
    },
    {
      "cell_type": "code",
      "metadata": {
        "id": "lL0YXjMMuSEI",
        "colab_type": "code",
        "outputId": "0a8d8290-898f-45e6-f3a8-bded68cf90d7",
        "colab": {
          "base_uri": "https://localhost:8080/",
          "height": 34
        }
      },
      "source": [
        "print(tf.__version__)"
      ],
      "execution_count": 0,
      "outputs": [
        {
          "output_type": "stream",
          "text": [
            "1.14.0\n"
          ],
          "name": "stdout"
        }
      ]
    },
    {
      "cell_type": "markdown",
      "metadata": {
        "id": "45ue6TrI8fCK",
        "colab_type": "text"
      },
      "source": [
        "## *Example 2.1* - *Hello World*"
      ]
    },
    {
      "cell_type": "code",
      "metadata": {
        "id": "17GYFg3wuVFv",
        "colab_type": "code",
        "colab": {}
      },
      "source": [
        "h = tf.constant(\"hello\")\n",
        "w = tf.constant(\"world!\")\n",
        "\n",
        "res = h + w"
      ],
      "execution_count": 0,
      "outputs": []
    },
    {
      "cell_type": "code",
      "metadata": {
        "id": "3LCcdaDruiUY",
        "colab_type": "code",
        "outputId": "a02adc8a-8bb3-4e15-f3fb-97f7355b8127",
        "colab": {
          "base_uri": "https://localhost:8080/",
          "height": 34
        }
      },
      "source": [
        "with tf.Session() as sess:\n",
        "  print(sess.run(res))"
      ],
      "execution_count": 0,
      "outputs": [
        {
          "output_type": "stream",
          "text": [
            "b'helloworld!'\n"
          ],
          "name": "stdout"
        }
      ]
    },
    {
      "cell_type": "code",
      "metadata": {
        "id": "LT3eAUFbuqLh",
        "colab_type": "code",
        "outputId": "3a83c2eb-25f4-4795-f76e-dc32d3d09c8d",
        "colab": {
          "base_uri": "https://localhost:8080/",
          "height": 34
        }
      },
      "source": [
        "print(res)"
      ],
      "execution_count": 0,
      "outputs": [
        {
          "output_type": "stream",
          "text": [
            "Tensor(\"add:0\", shape=(), dtype=string)\n"
          ],
          "name": "stdout"
        }
      ]
    },
    {
      "cell_type": "markdown",
      "metadata": {
        "id": "6cZSP2Dq87DS",
        "colab_type": "text"
      },
      "source": [
        "## *Example 2.2* - *MNIST Softmax Regression*"
      ]
    },
    {
      "cell_type": "code",
      "metadata": {
        "id": "lD0XLU2-9Lvd",
        "colab_type": "code",
        "colab": {}
      },
      "source": [
        "from tensorflow.examples.tutorials.mnist import input_data"
      ],
      "execution_count": 0,
      "outputs": []
    },
    {
      "cell_type": "code",
      "metadata": {
        "id": "XO1Pzm6R9e8W",
        "colab_type": "code",
        "colab": {}
      },
      "source": [
        "DATA_DIR = '/tmp/data'\n",
        "NUM_ITERATIONS = 1000\n",
        "MINIBATCH_SIZE = 100"
      ],
      "execution_count": 0,
      "outputs": []
    },
    {
      "cell_type": "code",
      "metadata": {
        "id": "b1_fqQY090OI",
        "colab_type": "code",
        "outputId": "a1cc1161-6341-4994-bfaa-cd4c1b4595b9",
        "colab": {
          "base_uri": "https://localhost:8080/",
          "height": 85
        }
      },
      "source": [
        "data = input_data.read_data_sets(DATA_DIR, one_hot=True)"
      ],
      "execution_count": 0,
      "outputs": [
        {
          "output_type": "stream",
          "text": [
            "Extracting /tmp/data/train-images-idx3-ubyte.gz\n",
            "Extracting /tmp/data/train-labels-idx1-ubyte.gz\n",
            "Extracting /tmp/data/t10k-images-idx3-ubyte.gz\n",
            "Extracting /tmp/data/t10k-labels-idx1-ubyte.gz\n"
          ],
          "name": "stdout"
        }
      ]
    },
    {
      "cell_type": "code",
      "metadata": {
        "id": "1RK7-BQy9-Pn",
        "colab_type": "code",
        "colab": {}
      },
      "source": [
        "x = tf.placeholder(dtype=tf.float32, shape=[None, 784])\n",
        "W = tf.Variable(tf.zeros(shape=[784, 10]))"
      ],
      "execution_count": 0,
      "outputs": []
    },
    {
      "cell_type": "code",
      "metadata": {
        "id": "fK5WNa8i-TIr",
        "colab_type": "code",
        "colab": {}
      },
      "source": [
        "y_true = tf.placeholder(dtype=tf.float32, shape=[None, 10])\n",
        "y_pred = tf.matmul(x,W)"
      ],
      "execution_count": 0,
      "outputs": []
    },
    {
      "cell_type": "code",
      "metadata": {
        "id": "jKImy5Ug_Gj-",
        "colab_type": "code",
        "colab": {}
      },
      "source": [
        "loss = tf.reduce_mean(tf.nn.softmax_cross_entropy_with_logits(logits=y_pred, labels=y_true))\n",
        "train_step = tf.train.GradientDescentOptimizer(0.5).minimize(loss)"
      ],
      "execution_count": 0,
      "outputs": []
    },
    {
      "cell_type": "code",
      "metadata": {
        "id": "vOXUCBHY_lNQ",
        "colab_type": "code",
        "colab": {}
      },
      "source": [
        "correct_pred = tf.equal(tf.argmax(y_pred,1), tf.argmax(y_true,1))\n",
        "accuracy = tf.reduce_mean(tf.cast(correct_pred, tf.float32))"
      ],
      "execution_count": 0,
      "outputs": []
    },
    {
      "cell_type": "code",
      "metadata": {
        "id": "IBXNW20-__Ll",
        "colab_type": "code",
        "outputId": "519013fd-ca3f-42c8-c7f9-44e4beda0889",
        "colab": {
          "base_uri": "https://localhost:8080/",
          "height": 34
        }
      },
      "source": [
        "with tf.Session() as sess:\n",
        "  sess.run(tf.global_variables_initializer())\n",
        "  for _ in range(NUM_ITERATIONS):\n",
        "    x_train, y_train = data.train.next_batch(MINIBATCH_SIZE)\n",
        "    sess.run(train_step, feed_dict={x:x_train, y_true:y_train})\n",
        "  x_test, y_test = data.test.images, data.test.labels\n",
        "  acc = sess.run(accuracy, feed_dict={x:x_test, y_true:y_test})\n",
        "  \n",
        "print(\"Accuracy is {:.2f}%\".format(acc*100))"
      ],
      "execution_count": 0,
      "outputs": [
        {
          "output_type": "stream",
          "text": [
            "Accuracy is 91.98%\n"
          ],
          "name": "stdout"
        }
      ]
    },
    {
      "cell_type": "code",
      "metadata": {
        "id": "NoPwi2dA-2pl",
        "colab_type": "code",
        "outputId": "e6e4584d-a5d5-4365-808c-6d45dcf0041f",
        "colab": {
          "base_uri": "https://localhost:8080/",
          "height": 51
        }
      },
      "source": [
        "sess = tf.InteractiveSession()  \n",
        "out = tf.random.truncated_normal([2,3])\n",
        "print(out.eval())"
      ],
      "execution_count": 0,
      "outputs": [
        {
          "output_type": "stream",
          "text": [
            "[[-0.6196749   0.12019282  0.13404314]\n",
            " [ 0.66068035 -1.3794898   1.1542788 ]]\n"
          ],
          "name": "stdout"
        }
      ]
    },
    {
      "cell_type": "code",
      "metadata": {
        "id": "I3iOjD7J_OL9",
        "colab_type": "code",
        "colab": {}
      },
      "source": [
        "sess.close()"
      ],
      "execution_count": 0,
      "outputs": []
    },
    {
      "cell_type": "code",
      "metadata": {
        "id": "L9cDsld2BaCt",
        "colab_type": "code",
        "outputId": "2be693da-6f15-4942-c406-748553c1cfbd",
        "colab": {
          "base_uri": "https://localhost:8080/",
          "height": 34
        }
      },
      "source": [
        "tf.constant(2.0)"
      ],
      "execution_count": 0,
      "outputs": [
        {
          "output_type": "execute_result",
          "data": {
            "text/plain": [
              "<tf.Tensor 'Const_4:0' shape=() dtype=float32>"
            ]
          },
          "metadata": {
            "tags": []
          },
          "execution_count": 16
        }
      ]
    },
    {
      "cell_type": "markdown",
      "metadata": {
        "id": "PMaHV167XF7g",
        "colab_type": "text"
      },
      "source": [
        "## *Placeholders*"
      ]
    },
    {
      "cell_type": "code",
      "metadata": {
        "id": "ezrXu_VUCEY0",
        "colab_type": "code",
        "outputId": "42273f2d-2d6f-4c38-8308-05b940e532b3",
        "colab": {
          "base_uri": "https://localhost:8080/",
          "height": 102
        }
      },
      "source": [
        "with tf.Graph().as_default():\n",
        "  x = tf.placeholder(tf.float32, shape=[5, 10])\n",
        "  w = tf.placeholder(tf.float32, shape=[10,1])\n",
        "  xw = tf.matmul(x,w)\n",
        "  with tf.Session() as sess:\n",
        "    output = sess.run(xw, feed_dict={x:np.random.rand(5,10), w:np.random.rand(10,1)})\n",
        "  print(\"Output is {} and shape is {}\".format(output, output.shape))"
      ],
      "execution_count": 0,
      "outputs": [
        {
          "output_type": "stream",
          "text": [
            "Output is [[1.4728774]\n",
            " [1.7282407]\n",
            " [1.7896023]\n",
            " [1.9331231]\n",
            " [1.3141056]] and shape is (5, 1)\n"
          ],
          "name": "stdout"
        }
      ]
    },
    {
      "cell_type": "markdown",
      "metadata": {
        "id": "SqVpjTFKY-iu",
        "colab_type": "text"
      },
      "source": [
        "## *Optimization*"
      ]
    },
    {
      "cell_type": "markdown",
      "metadata": {
        "id": "EWSZUkUvZBkW",
        "colab_type": "text"
      },
      "source": [
        "### *Example* - *Linear Regression*"
      ]
    },
    {
      "cell_type": "code",
      "metadata": {
        "id": "FOshhW8Qcv_j",
        "colab_type": "code",
        "colab": {}
      },
      "source": [
        "x_data = np.random.rand(1000,3)\n",
        "w_real = [.3,.5,.2]\n",
        "b_real = -.2\n",
        "\n",
        "noise = np.random.rand(1, 1000)*0.01\n",
        "y_data = np.matmul(w_real, x_data.T) + b_real + noise"
      ],
      "execution_count": 0,
      "outputs": []
    },
    {
      "cell_type": "code",
      "metadata": {
        "id": "zbnjwFzSdFAK",
        "colab_type": "code",
        "outputId": "dc3114ba-e68d-44bc-be1b-0ab3e72145fd",
        "colab": {
          "base_uri": "https://localhost:8080/",
          "height": 34
        }
      },
      "source": [
        "NUM_ITER = 100\n",
        "\n",
        "g = tf.Graph()\n",
        "\n",
        "with g.as_default():\n",
        "  x = tf.placeholder(tf.float32, shape=[None, 3])\n",
        "  y_true = tf.placeholder(tf.float32, shape=None)\n",
        "  \n",
        "  with tf.name_scope('inference') as scope:\n",
        "    w = tf.Variable([[0.,0.,0.]], name='weights')\n",
        "    b = tf.Variable(0., name='bias')\n",
        "    y_pred = tf.matmul(w, tf.transpose(x)) + b\n",
        "  \n",
        "  with tf.name_scope('loss') as scope:\n",
        "    loss = tf.reduce_mean(tf.squared_difference(y_true, y_pred))\n",
        "    \n",
        "  with tf.name_scope('train') as scope:\n",
        "    optimizer = tf.train.GradientDescentOptimizer(0.5)\n",
        "    train_step = optimizer.minimize(loss)\n",
        "  \n",
        "  \n",
        "  init = tf.global_variables_initializer()\n",
        "  with tf.Session() as sess:\n",
        "    sess.run(init)\n",
        "    for _ in range(NUM_ITER):\n",
        "      sess.run(train_step, feed_dict={x:x_data, y_true:y_data})\n",
        "    print(\"Update parameters={}\".format(sess.run([w,b])))"
      ],
      "execution_count": 0,
      "outputs": [
        {
          "output_type": "stream",
          "text": [
            "Update parameters=[array([[0.2980278 , 0.49800313, 0.19836046]], dtype=float32), -0.19220619]\n"
          ],
          "name": "stdout"
        }
      ]
    },
    {
      "cell_type": "markdown",
      "metadata": {
        "id": "2FZ5i5wGhVF7",
        "colab_type": "text"
      },
      "source": [
        "### *Example* - *Logisti Regression*"
      ]
    },
    {
      "cell_type": "code",
      "metadata": {
        "id": "EfeJxEJRnX-w",
        "colab_type": "code",
        "colab": {}
      },
      "source": [
        "x_data = np.random.randn(20000,3)\n",
        "w_real = [[0.3,0.5,0.1]]\n",
        "b_real = -0.1"
      ],
      "execution_count": 0,
      "outputs": []
    },
    {
      "cell_type": "code",
      "metadata": {
        "id": "O8RxroXdfzdD",
        "colab_type": "code",
        "colab": {}
      },
      "source": [
        "def sigmoid(z):\n",
        "  return 1/(1+np.exp(-z))"
      ],
      "execution_count": 0,
      "outputs": []
    },
    {
      "cell_type": "code",
      "metadata": {
        "id": "cX8H7Uonj8IY",
        "colab_type": "code",
        "colab": {}
      },
      "source": [
        "y_data_pre_noise = sigmoid(np.matmul(w_real, x_data.T) + b_real)\n",
        "y_data = np.random.binomial(1, y_data_pre_noise)"
      ],
      "execution_count": 0,
      "outputs": []
    },
    {
      "cell_type": "code",
      "metadata": {
        "id": "4zjgMdBikapg",
        "colab_type": "code",
        "outputId": "2ec5226a-933a-4730-a603-c02b80de585c",
        "colab": {
          "base_uri": "https://localhost:8080/",
          "height": 34
        }
      },
      "source": [
        "NUM_STEP = 50\n",
        "g1 = tf.Graph()\n",
        "with g1.as_default():\n",
        "  x = tf.placeholder(tf.float32, shape=[None, 3])\n",
        "  y_true = tf.placeholder(tf.float32, shape=None)\n",
        "  \n",
        "  with tf.name_scope('inference') as scope:\n",
        "    w = tf.Variable([[0, 0, 0]], dtype=tf.float32, name='weights')\n",
        "    b = tf.Variable(0, dtype=tf.float32, name='bias')\n",
        "    y_pred = tf.sigmoid(tf.matmul(w, tf.transpose(x)) + b)\n",
        "  \n",
        "  with tf.name_scope('loss') as scope:\n",
        "    loss = tf.nn.sigmoid_cross_entropy_with_logits(labels=y_true, logits=y_pred)\n",
        "    loss = tf.reduce_mean(loss)\n",
        "    \n",
        "  with tf.name_scope('train') as scope:\n",
        "    learning_rate = 0.5\n",
        "    optimizer = tf.train.GradientDescentOptimizer(learning_rate)\n",
        "    train = optimizer.minimize(loss)\n",
        "    \n",
        "  init = tf.global_variables_initializer()\n",
        "  with tf.Session() as sess:\n",
        "    sess.run(init)\n",
        "    for _ in range(NUM_STEP):\n",
        "      sess.run(train, feed_dict={x:x_data, y_true:y_data})\n",
        "      \n",
        "    print(\"Parameters are {}\".format(sess.run([w, b])))"
      ],
      "execution_count": 0,
      "outputs": [
        {
          "output_type": "stream",
          "text": [
            "Parameters are [array([[0.30706573, 0.5003172 , 0.11274564]], dtype=float32), -0.709256]\n"
          ],
          "name": "stdout"
        }
      ]
    },
    {
      "cell_type": "code",
      "metadata": {
        "id": "geLldKJJkblk",
        "colab_type": "code",
        "colab": {}
      },
      "source": [
        ""
      ],
      "execution_count": 0,
      "outputs": []
    }
  ]
}