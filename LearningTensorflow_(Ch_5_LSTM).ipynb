{
  "nbformat": 4,
  "nbformat_minor": 0,
  "metadata": {
    "colab": {
      "name": "LearningTensorflow (Ch - 5 LSTM).ipynb",
      "version": "0.3.2",
      "provenance": [],
      "include_colab_link": true
    },
    "kernelspec": {
      "name": "python3",
      "display_name": "Python 3"
    },
    "accelerator": "GPU"
  },
  "cells": [
    {
      "cell_type": "markdown",
      "metadata": {
        "id": "view-in-github",
        "colab_type": "text"
      },
      "source": [
        "<a href=\"https://colab.research.google.com/github/kanishkjain1995/Learning-Tensorflow/blob/master/LearningTensorflow_(Ch_5_LSTM).ipynb\" target=\"_parent\"><img src=\"https://colab.research.google.com/assets/colab-badge.svg\" alt=\"Open In Colab\"/></a>"
      ]
    },
    {
      "cell_type": "code",
      "metadata": {
        "id": "ppT7Gw78uy0p",
        "colab_type": "code",
        "colab": {}
      },
      "source": [
        "import tensorflow as tf\n",
        "import numpy as np"
      ],
      "execution_count": 0,
      "outputs": []
    },
    {
      "cell_type": "code",
      "metadata": {
        "id": "B2m4MHewu4Bo",
        "colab_type": "code",
        "colab": {}
      },
      "source": [
        "batch_size = 128\n",
        "embedding_size = 64\n",
        "time_steps = 6\n",
        "hidden_layer_size = 32\n",
        "num_classes = 2\n",
        "element_size = 1"
      ],
      "execution_count": 0,
      "outputs": []
    },
    {
      "cell_type": "code",
      "metadata": {
        "id": "uxhTqen2zBOf",
        "colab_type": "code",
        "colab": {}
      },
      "source": [
        "digit_to_word = {1:\"one\", 2:\"two\", 3:\"three\", 4:\"four\", 5:\"five\", 6:\"six\", 7:\"seven\", 8:\"eight\", 9:\"nine\"}\n",
        "digit_to_word[0] = \"PAD\""
      ],
      "execution_count": 0,
      "outputs": []
    },
    {
      "cell_type": "code",
      "metadata": {
        "id": "t8djF_hqzdQa",
        "colab_type": "code",
        "colab": {}
      },
      "source": [
        "even_sentences = []\n",
        "odd_sentences = []\n",
        "sequence_len = []\n",
        "for i in range(10000):\n",
        "  seq_len = np.random.choice(range(3,7))\n",
        "  sequence_len.append(seq_len)\n",
        "  even_indices = [np.random.choice(range(2,10,2)) for i in range(seq_len)] + [0]*(6-seq_len)\n",
        "  odd_indices = [np.random.choice(range(1,10,2)) for i in range(seq_len)] + [0]*(6-seq_len)\n",
        "  \n",
        "  even_sentences.append(\" \".join([digit_to_word[ind] for ind in even_indices]))\n",
        "  odd_sentences.append(\" \".join([digit_to_word[ind] for ind in odd_indices]))\n",
        "  \n",
        "data = even_sentences + odd_sentences\n",
        "sequence_len*=2"
      ],
      "execution_count": 0,
      "outputs": []
    },
    {
      "cell_type": "code",
      "metadata": {
        "id": "lUrHqRH52m16",
        "colab_type": "code",
        "colab": {}
      },
      "source": [
        "word2index_map = {}\n",
        "index = 0\n",
        "for sent in data:\n",
        "  for word in sent.lower().split():\n",
        "    if word not in word2index_map:\n",
        "      word2index_map[word]=index\n",
        "      index+=1\n",
        "index2word_map = {index: word for word, index in word2index_map.items()} \n",
        "vocabulary_size = len(index2word_map)"
      ],
      "execution_count": 0,
      "outputs": []
    },
    {
      "cell_type": "code",
      "metadata": {
        "id": "9FljZxAI1QAT",
        "colab_type": "code",
        "colab": {}
      },
      "source": [
        "labels = [1]*10000 + [0]*10000\n",
        "def one_hot(vec, num_class):\n",
        "  n = len(vec)\n",
        "  one_hot_labels = np.zeros((n, num_class))\n",
        "  one_hot_labels[range(n), vec] = 1\n",
        "  return one_hot_labels"
      ],
      "execution_count": 0,
      "outputs": []
    },
    {
      "cell_type": "code",
      "metadata": {
        "id": "2ItFKp_k2ikg",
        "colab_type": "code",
        "colab": {}
      },
      "source": [
        "data_indices = list(range(len(data)))\n",
        "np.random.shuffle(data_indices)\n",
        "\n",
        "data = np.array(data)[data_indices]\n",
        "sequence_len = np.array(sequence_len)[data_indices]\n",
        "labels = np.array(one_hot(labels, 2))[data_indices]\n",
        "\n",
        "train_x = data[:10000]\n",
        "train_y = labels[:10000]\n",
        "train_seqlens = sequence_len[:10000]\n",
        "\n",
        "test_x = data[10000:]\n",
        "test_y = labels[10000:]\n",
        "test_seqlens = sequence_len[10000:]"
      ],
      "execution_count": 0,
      "outputs": []
    },
    {
      "cell_type": "code",
      "metadata": {
        "id": "zzgo3MVB7xC_",
        "colab_type": "code",
        "colab": {}
      },
      "source": [
        "def get_sentence_batch(batch_size, data_x, data_y, data_seqlens):\n",
        "  instance_indices = np.random.choice(range(len(data_x)), batch_size)\n",
        "  x = [[word2index_map[word] for word in sent.lower().split()] for sent in data_x[instance_indices]]\n",
        "  y = data_y[instance_indices]\n",
        "  seqlens = data_seqlens[instance_indices]\n",
        "  return x, y, seqlens"
      ],
      "execution_count": 0,
      "outputs": []
    },
    {
      "cell_type": "code",
      "metadata": {
        "id": "RPQ6aQSF-7yH",
        "colab_type": "code",
        "colab": {}
      },
      "source": [
        "_inputs = tf.placeholder(tf.int32, shape=[batch_size, time_steps])\n",
        "_labels = tf.placeholder(tf.float32, shape=[batch_size, num_classes])\n",
        "_seqlens = tf.placeholder(tf.int32, shape=[batch_size])"
      ],
      "execution_count": 0,
      "outputs": []
    },
    {
      "cell_type": "code",
      "metadata": {
        "id": "YTrQ-KOEaI64",
        "colab_type": "code",
        "colab": {}
      },
      "source": [
        "weights = {\n",
        "    \"linear_layer\" : tf.Variable(tf.truncated_normal([hidden_layer_size, num_classes], mean=0.0, stddev=0.01))\n",
        "}\n",
        "biases = {\n",
        "    \"linear_layer\" : tf.Variable(tf.truncated_normal([num_classes], mean=0.0, stddev=0.01))\n",
        "}"
      ],
      "execution_count": 0,
      "outputs": []
    },
    {
      "cell_type": "markdown",
      "metadata": {
        "id": "uTR51lvMZXH0",
        "colab_type": "text"
      },
      "source": [
        "# *Single Layer LSTM*"
      ]
    },
    {
      "cell_type": "code",
      "metadata": {
        "id": "zt5iSJD5_-qY",
        "colab_type": "code",
        "colab": {}
      },
      "source": [
        "with tf.name_scope(\"embeddings\") as scope:\n",
        "  embedding = tf.Variable(tf.random_uniform([vocabulary_size, embedding_size], -1.0, 1.0, name=\"embedding\"))\n",
        "  embed = tf.nn.embedding_lookup(embedding, _inputs)"
      ],
      "execution_count": 0,
      "outputs": []
    },
    {
      "cell_type": "code",
      "metadata": {
        "id": "FGW__NKHDYJN",
        "colab_type": "code",
        "outputId": "7808bbb5-7dd0-4c58-b5d1-305dfbba31f2",
        "colab": {
          "base_uri": "https://localhost:8080/",
          "height": 309
        }
      },
      "source": [
        "with tf.variable_scope(\"lstm\"):\n",
        "  lstm_cell = tf.compat.v1.nn.rnn_cell.LSTMCell(hidden_layer_size, forget_bias=1.0)\n",
        "  outputs, states = tf.nn.dynamic_rnn(lstm_cell, embed, sequence_length=_seqlens, dtype=tf.float32)\n",
        "final_output = tf.matmul(states[1], weights['linear_layer']) + biases['linear_layer']"
      ],
      "execution_count": 0,
      "outputs": [
        {
          "output_type": "stream",
          "text": [
            "WARNING: Logging before flag parsing goes to stderr.\n",
            "W0710 00:29:15.917137 140669355210624 deprecation.py:323] From <ipython-input-11-a873f012ec42>:2: LSTMCell.__init__ (from tensorflow.python.ops.rnn_cell_impl) is deprecated and will be removed in a future version.\n",
            "Instructions for updating:\n",
            "This class is equivalent as tf.keras.layers.LSTMCell, and will be replaced by that in Tensorflow 2.0.\n",
            "W0710 00:29:15.920614 140669355210624 deprecation.py:323] From <ipython-input-11-a873f012ec42>:3: dynamic_rnn (from tensorflow.python.ops.rnn) is deprecated and will be removed in a future version.\n",
            "Instructions for updating:\n",
            "Please use `keras.layers.RNN(cell)`, which is equivalent to this API\n",
            "W0710 00:29:16.014219 140669355210624 deprecation.py:506] From /usr/local/lib/python3.6/dist-packages/tensorflow/python/ops/init_ops.py:1251: calling VarianceScaling.__init__ (from tensorflow.python.ops.init_ops) with dtype is deprecated and will be removed in a future version.\n",
            "Instructions for updating:\n",
            "Call initializer instance with the dtype argument instead of passing it to the constructor\n",
            "W0710 00:29:16.027806 140669355210624 deprecation.py:506] From /usr/local/lib/python3.6/dist-packages/tensorflow/python/ops/rnn_cell_impl.py:961: calling Zeros.__init__ (from tensorflow.python.ops.init_ops) with dtype is deprecated and will be removed in a future version.\n",
            "Instructions for updating:\n",
            "Call initializer instance with the dtype argument instead of passing it to the constructor\n",
            "W0710 00:29:16.892182 140669355210624 deprecation.py:323] From /usr/local/lib/python3.6/dist-packages/tensorflow/python/ops/rnn.py:244: add_dispatch_support.<locals>.wrapper (from tensorflow.python.ops.array_ops) is deprecated and will be removed in a future version.\n",
            "Instructions for updating:\n",
            "Use tf.where in 2.0, which has the same broadcast rule as np.where\n"
          ],
          "name": "stderr"
        }
      ]
    },
    {
      "cell_type": "markdown",
      "metadata": {
        "id": "HfOPmLO2ZMys",
        "colab_type": "text"
      },
      "source": [
        "# *Multi Layer LSTM*"
      ]
    },
    {
      "cell_type": "code",
      "metadata": {
        "id": "W35zRmLVPATC",
        "colab_type": "code",
        "colab": {}
      },
      "source": [
        "multi_embedding_size = 32\n",
        "with tf.name_scope(\"embeddings\") as scope:\n",
        "  embedding = tf.Variable(tf.random_uniform([vocabulary_size, multi_embedding_size], -1.0, 1.0, name=\"embedding\"))\n",
        "  embed = tf.nn.embedding_lookup(embedding, _inputs)"
      ],
      "execution_count": 0,
      "outputs": []
    },
    {
      "cell_type": "code",
      "metadata": {
        "id": "Ouh3PerwNnNO",
        "colab_type": "code",
        "outputId": "195d0266-ef07-477f-c85d-f3926650cf8a",
        "colab": {
          "base_uri": "https://localhost:8080/",
          "height": 513
        }
      },
      "source": [
        "num_layers = 2\n",
        "with tf.variable_scope(\"lstm_multi\"):\n",
        "  lstm_cell = tf.compat.v1.nn.rnn_cell.LSTMCell(hidden_layer_size, forget_bias=1.0)\n",
        "  cell = tf.contrib.rnn.MultiRNNCell(cells=[lstm_cell]*num_layers, state_is_tuple=True)\n",
        "  outputs, states = tf.nn.dynamic_rnn(cell, embed, sequence_length=_seqlens, dtype=tf.float32)\n",
        "final_output = tf.matmul(states[num_layers-1][1], weights['linear_layer']) + biases['linear_layer']"
      ],
      "execution_count": 0,
      "outputs": [
        {
          "output_type": "stream",
          "text": [
            "WARNING: Logging before flag parsing goes to stderr.\n",
            "W0710 04:59:24.943510 140651867142016 deprecation.py:323] From <ipython-input-12-215c3aac57c2>:3: LSTMCell.__init__ (from tensorflow.python.ops.rnn_cell_impl) is deprecated and will be removed in a future version.\n",
            "Instructions for updating:\n",
            "This class is equivalent as tf.keras.layers.LSTMCell, and will be replaced by that in Tensorflow 2.0.\n",
            "W0710 04:59:25.940642 140651867142016 lazy_loader.py:50] \n",
            "The TensorFlow contrib module will not be included in TensorFlow 2.0.\n",
            "For more information, please see:\n",
            "  * https://github.com/tensorflow/community/blob/master/rfcs/20180907-contrib-sunset.md\n",
            "  * https://github.com/tensorflow/addons\n",
            "  * https://github.com/tensorflow/io (for I/O related ops)\n",
            "If you depend on functionality not listed there, please file an issue.\n",
            "\n",
            "W0710 04:59:25.942426 140651867142016 deprecation.py:323] From <ipython-input-12-215c3aac57c2>:4: MultiRNNCell.__init__ (from tensorflow.python.ops.rnn_cell_impl) is deprecated and will be removed in a future version.\n",
            "Instructions for updating:\n",
            "This class is equivalent as tf.keras.layers.StackedRNNCells, and will be replaced by that in Tensorflow 2.0.\n",
            "W0710 04:59:25.945064 140651867142016 rnn_cell_impl.py:1642] At least two cells provided to MultiRNNCell are the same object and will share weights.\n",
            "W0710 04:59:25.948815 140651867142016 deprecation.py:323] From <ipython-input-12-215c3aac57c2>:5: dynamic_rnn (from tensorflow.python.ops.rnn) is deprecated and will be removed in a future version.\n",
            "Instructions for updating:\n",
            "Please use `keras.layers.RNN(cell)`, which is equivalent to this API\n",
            "W0710 04:59:26.335937 140651867142016 deprecation.py:506] From /usr/local/lib/python3.6/dist-packages/tensorflow/python/ops/init_ops.py:1251: calling VarianceScaling.__init__ (from tensorflow.python.ops.init_ops) with dtype is deprecated and will be removed in a future version.\n",
            "Instructions for updating:\n",
            "Call initializer instance with the dtype argument instead of passing it to the constructor\n",
            "W0710 04:59:26.462395 140651867142016 deprecation.py:506] From /usr/local/lib/python3.6/dist-packages/tensorflow/python/ops/rnn_cell_impl.py:961: calling Zeros.__init__ (from tensorflow.python.ops.init_ops) with dtype is deprecated and will be removed in a future version.\n",
            "Instructions for updating:\n",
            "Call initializer instance with the dtype argument instead of passing it to the constructor\n",
            "W0710 04:59:27.170204 140651867142016 deprecation.py:323] From /usr/local/lib/python3.6/dist-packages/tensorflow/python/ops/rnn.py:244: add_dispatch_support.<locals>.wrapper (from tensorflow.python.ops.array_ops) is deprecated and will be removed in a future version.\n",
            "Instructions for updating:\n",
            "Use tf.where in 2.0, which has the same broadcast rule as np.where\n"
          ],
          "name": "stderr"
        }
      ]
    },
    {
      "cell_type": "code",
      "metadata": {
        "id": "zZE-1GPuI2pH",
        "colab_type": "code",
        "outputId": "7b66a6a7-0f18-4dfb-f1d1-064d4f93cfa7",
        "colab": {
          "base_uri": "https://localhost:8080/",
          "height": 224
        }
      },
      "source": [
        "cross_entropy = tf.reduce_mean(tf.nn.softmax_cross_entropy_with_logits(logits=final_output, labels=_labels))\n",
        "\n",
        "train_step = tf.train.RMSPropOptimizer(1e-3, 9e-1).minimize(cross_entropy)\n",
        "\n",
        "correct_pred = tf.equal(tf.argmax(final_output, 1), tf.argmax(_labels, 1))\n",
        "accuracy = 100*tf.reduce_mean(tf.cast(correct_pred, tf.float32))"
      ],
      "execution_count": 0,
      "outputs": [
        {
          "output_type": "stream",
          "text": [
            "W0710 04:59:27.218790 140651867142016 deprecation.py:323] From <ipython-input-13-39db1b461d30>:1: softmax_cross_entropy_with_logits (from tensorflow.python.ops.nn_ops) is deprecated and will be removed in a future version.\n",
            "Instructions for updating:\n",
            "\n",
            "Future major versions of TensorFlow will allow gradients to flow\n",
            "into the labels input on backprop by default.\n",
            "\n",
            "See `tf.nn.softmax_cross_entropy_with_logits_v2`.\n",
            "\n",
            "W0710 04:59:27.622259 140651867142016 deprecation.py:506] From /usr/local/lib/python3.6/dist-packages/tensorflow/python/training/rmsprop.py:119: calling Ones.__init__ (from tensorflow.python.ops.init_ops) with dtype is deprecated and will be removed in a future version.\n",
            "Instructions for updating:\n",
            "Call initializer instance with the dtype argument instead of passing it to the constructor\n"
          ],
          "name": "stderr"
        }
      ]
    },
    {
      "cell_type": "code",
      "metadata": {
        "id": "5NM6O3vhJUuX",
        "colab_type": "code",
        "outputId": "589a3b31-82ec-45a3-9ff3-f8d3152ec5f2",
        "colab": {
          "base_uri": "https://localhost:8080/",
          "height": 272
        }
      },
      "source": [
        "with tf.Session() as sess:\n",
        "  sess.run(tf.global_variables_initializer())\n",
        "  \n",
        "  for i in range(1000):\n",
        "    x_train, y_train, seq_train = get_sentence_batch(batch_size, train_x, train_y, train_seqlens)\n",
        "    #print(x_train, y_train, seq_train)\n",
        "    sess.run(train_step, feed_dict={_inputs:x_train, _labels:y_train, _seqlens:seq_train})\n",
        "    if i%100 == 0:\n",
        "      train_accuracy = sess.run(accuracy, feed_dict={_inputs:x_train, _labels:y_train, _seqlens:seq_train})\n",
        "      print(\"step {:.4f}, train accuracy {:.2f}%\".format(i, train_accuracy))\n",
        "  for i in range(5):\n",
        "    x_test, y_test, seq_test = get_sentence_batch(batch_size, test_x, test_y, test_seqlens)\n",
        "    test_accuracy = sess.run(accuracy, feed_dict={_inputs:x_test, _labels:y_test, _seqlens:seq_test})\n",
        "    print(\"step {:.4f}, test accuracy {:.2f}%\".format(i, test_accuracy))\n",
        "  output_example = sess.run([outputs],feed_dict={_inputs:x_test, _labels:y_test, _seqlens:seq_test})\n",
        "  states_example = sess.run([states[1]],feed_dict={_inputs:x_test, _labels:y_test, _seqlens:seq_test})"
      ],
      "execution_count": 0,
      "outputs": [
        {
          "output_type": "stream",
          "text": [
            "step 0.0000, train accuracy 53.12%\n",
            "step 100.0000, train accuracy 100.00%\n",
            "step 200.0000, train accuracy 100.00%\n",
            "step 300.0000, train accuracy 100.00%\n",
            "step 400.0000, train accuracy 100.00%\n",
            "step 500.0000, train accuracy 100.00%\n",
            "step 600.0000, train accuracy 100.00%\n",
            "step 700.0000, train accuracy 100.00%\n",
            "step 800.0000, train accuracy 100.00%\n",
            "step 900.0000, train accuracy 100.00%\n",
            "step 0.0000, test accuracy 100.00%\n",
            "step 1.0000, test accuracy 100.00%\n",
            "step 2.0000, test accuracy 100.00%\n",
            "step 3.0000, test accuracy 100.00%\n",
            "step 4.0000, test accuracy 100.00%\n"
          ],
          "name": "stdout"
        }
      ]
    },
    {
      "cell_type": "code",
      "metadata": {
        "id": "J7LN6HyaS7IA",
        "colab_type": "code",
        "colab": {}
      },
      "source": [
        ""
      ],
      "execution_count": 0,
      "outputs": []
    }
  ]
}